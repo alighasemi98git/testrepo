{
 "cells": [
  {
   "cell_type": "markdown",
   "id": "b1823b02",
   "metadata": {},
   "source": [
    "# Deep dive into all the basic commands of python\n",
    "### Variables\n",
    "you cannot start your varaible name with numbers. <br>\n",
    "### expressions and statements\n",
    "expression is any sort of code that returns value. like: <br>\n",
    "1+1<br>\n",
    "\"Beau\"<br>\n",
    "Statement is a operation on a value.<br>\n",
    "print (name)<br>\n",
    "you can use semicolon to have more than on statement on a single line.<br>\n"
   ]
  },
  {
   "cell_type": "code",
   "execution_count": 1,
   "id": "b1709a2b",
   "metadata": {},
   "outputs": [
    {
     "name": "stdout",
     "output_type": "stream",
     "text": [
      "Beau\n"
     ]
    }
   ],
   "source": [
    "#variable\n",
    "name = \"Beau\"\n",
    "age = 39\n",
    "#expression \n",
    "1+1\n",
    "\"Beau\"\n",
    "#two commands in one line\n",
    "name = \"Beau\" ; print(name)"
   ]
  },
  {
   "cell_type": "markdown",
   "id": "ae53f82e",
   "metadata": {},
   "source": [
    "### Indentaion\n",
    "Indentation in python matters. you cannot just take a line forward by puting tab or space.\n",
    "### Data types\n",
    "You can check the type of a variable by type function.You can do this in 3 ways.<br>\n",
    "\n",
    "1- String: anything surronded by \"str\"<br>\n",
    "2- integer : numbers without floating point.<br>\n",
    "3- Float : numbers with floating points.<br>\n",
    "4- complex : for complex numbers.<br>\n",
    "5- bool for booleans.<br>\n",
    "6- list for lists.<br>\n",
    "7- tuple for tuples.<br>\n",
    "8- range for ranges.<br>\n",
    "9- dict for distionaries.<br>\n",
    "10- set for sets.<br>\n",
    "### Class constructor\n",
    "you can creat a variable of a specific type using the class constructor. But it shoud be logical.<br>"
   ]
  },
  {
   "cell_type": "code",
   "execution_count": 6,
   "id": "f22802eb",
   "metadata": {},
   "outputs": [
    {
     "name": "stdout",
     "output_type": "stream",
     "text": [
      "<class 'str'>\n",
      "True\n",
      "True\n",
      "True\n",
      "<class 'float'>\n",
      "<class 'float'>\n",
      "<class 'int'>\n"
     ]
    }
   ],
   "source": [
    "name = \"Beau\"\n",
    "#check the type\n",
    "\n",
    "print(type(name))\n",
    "print(type(name) == str)\n",
    "print(isinstance(name, str))\n",
    "\n",
    "#Integer\n",
    "age = 2\n",
    "print(isinstance(age, int))\n",
    "\n",
    "#Float\n",
    "height = 178.\n",
    "print(type(height))\n",
    "\n",
    "# class onstructor\n",
    "height = float(178)\n",
    "age = int(\"2\")\n",
    "print(type(height))\n",
    "print(type(age))"
   ]
  },
  {
   "cell_type": "markdown",
   "id": "3bdfad68",
   "metadata": {},
   "source": [
    "### Arithmetic Operators\n",
    "\n",
    "These are Mathematical operators."
   ]
  },
  {
   "cell_type": "code",
   "execution_count": null,
   "id": "3b95842b",
   "metadata": {},
   "outputs": [],
   "source": [
    "# Arithmatic operation\n",
    "1 + 1\n",
    "2 - 1\n",
    "2 * 2\n",
    "4 / 2\n",
    "4 % 3 #reminder operator\n",
    "4 ** 2\n",
    "5 // 2 #floar division\n",
    "\n",
    "\"Scamp\" + \"is a good dog\"\n",
    "\n",
    "# we can use all of the arithmatic opertators with assighnment operators\n",
    "age += 8"
   ]
  },
  {
   "cell_type": "markdown",
   "id": "4993b92c",
   "metadata": {},
   "source": [
    "### comparison operators\n",
    "True and False boolean values\n",
    "### Boolean operators\n",
    "0 and [] and {} are considered False values"
   ]
  },
  {
   "cell_type": "code",
   "execution_count": 8,
   "id": "5aea1668",
   "metadata": {},
   "outputs": [
    {
     "data": {
      "text/plain": [
       "True"
      ]
     },
     "execution_count": 8,
     "metadata": {},
     "output_type": "execute_result"
    }
   ],
   "source": [
    "# Comparison operators\n",
    "a = 1\n",
    "b = 2\n",
    "a == b\n",
    "a != b\n",
    "a > b\n",
    "a < b\n",
    "a >= b\n",
    "a <= b\n",
    "\n",
    "# Boolean operators\n",
    "condition1 = True\n",
    "condition2 = False\n",
    "not condition1\n",
    "condition1 and condition2 #both have to be true\n",
    "condition1 or condition2 #returns true if one of the statements is true\n",
    "\n",
    "# more about or. when it used as expression returns the value of the first operant that is not false\n",
    "# otherwise it returns the last operand\n",
    "\n",
    "print(0 or 1) #1\n",
    "print(False or \"hey\") #\"hey\"\n",
    "print(\"hi\" or 'hey') #\"hi\"\n",
    "print([] or False) #False\n",
    "print(False or []) #[]\n",
    "\n",
    "# more about and. and evaluates the second argument if the first one is true if the fist argument is\n",
    "# false it returns the first argument\n",
    "\n",
    "print(0 and 1) #0\n",
    "print(False and \"hey\") #False\n",
    "print(\"hi\" and 'hey') #\"hey\"\n",
    "print([] and False) #[]\n",
    "print(False and []) #False"
   ]
  },
  {
   "cell_type": "markdown",
   "id": "133236ad",
   "metadata": {},
   "source": [
    "### Bitwise Operators\n",
    "& performe binary And <br>\n",
    "| performe binary OR<br>\n",
    "^ perform binary XOR operation<br>\n",
    "~ perform binary XOR operation<br>\n",
    "<< shift left operation<br>\n",
    "$>> shift right operation$ <br>\n",
    "### is and in operators\n",
    "is : identity operator. it compare two object and returns true if both are the same object.<br>\n",
    "in : membership operator. if a value contains in a list or other sequence."
   ]
  },
  {
   "cell_type": "markdown",
   "id": "789147ef",
   "metadata": {},
   "source": [
    "### Ternary Operator"
   ]
  },
  {
   "cell_type": "code",
   "execution_count": null,
   "id": "0f8c05c9",
   "metadata": {},
   "outputs": [],
   "source": [
    "def is_adult(age):\n",
    "    if age > 18:\n",
    "        return True\n",
    "    else\n",
    "        return False\n",
    "    \n",
    "# ternary operator\n",
    "def is_adult2(age):\n",
    "    return True if age > 18 else return False"
   ]
  },
  {
   "cell_type": "markdown",
   "id": "45013b04",
   "metadata": {},
   "source": [
    "### Strings\n",
    "you can make multi line strings with three  \" mark\n",
    "#### strings methods\n"
   ]
  },
  {
   "cell_type": "code",
   "execution_count": 19,
   "id": "4d4cdc22",
   "metadata": {},
   "outputs": [
    {
     "name": "stdout",
     "output_type": "stream",
     "text": [
      "ali is my name\n",
      " ali is \n",
      "25\n",
      "years old\n",
      "\n",
      "Ali Ghasemi\n",
      "ali ghasemi\n",
      "ALI GHASEMI\n",
      "True\n",
      "False\n",
      "I'm ali\n",
      "I'm \n",
      "ali\n"
     ]
    }
   ],
   "source": [
    "name = 'ali'\n",
    "name += ' is my name'\n",
    "print(name)\n",
    "print(\"\"\" ali is \n",
    "25\n",
    "years old\n",
    "\"\"\")\n",
    "\n",
    "# built in methods\n",
    "print(\"ali ghasemi\".title())\n",
    "print(\"ALI ghasemi\".lower())\n",
    "print(\"ali ghasemi\".upper())\n",
    "print(\"ali ghasemi\".islower())\n",
    "print(\"ay\" in name)\n",
    "\n",
    "#using back slash as skape chararcter\n",
    "name1 = 'I\\'m ali'\n",
    "print(name1)\n",
    "name2 = \"I\\'m \\nali\"\n",
    "print(name2)"
   ]
  },
  {
   "cell_type": "markdown",
   "id": "aac6e97b",
   "metadata": {},
   "source": [
    "### String characters and slicing\n"
   ]
  },
  {
   "cell_type": "code",
   "execution_count": 24,
   "id": "2c0f9ff6",
   "metadata": {},
   "outputs": [
    {
     "name": "stdout",
     "output_type": "stream",
     "text": [
      "l\n",
      "i\n",
      "li \n"
     ]
    }
   ],
   "source": [
    "name = \"ali ghasemi\"\n",
    "print(name[1])\n",
    "print(name[-1])\n",
    "print(name[1:4]) #space is a character"
   ]
  },
  {
   "cell_type": "markdown",
   "id": "9b1d7771",
   "metadata": {},
   "source": [
    "### Booleans\n",
    "strings,tuples,dictionary, lists are false if they are empty.<br>\n",
    "numbers are false if they are equal to zero.<br>\n",
    "#### Global function of any() and all()\n",
    "these global function is very useful when we work with booleans.<br>"
   ]
  },
  {
   "cell_type": "code",
   "execution_count": 28,
   "id": "39fbd522",
   "metadata": {},
   "outputs": [
    {
     "name": "stdout",
     "output_type": "stream",
     "text": [
      "<class 'bool'>\n",
      "read any book: True \n",
      "ready to serve: False\n"
     ]
    }
   ],
   "source": [
    "done = True\n",
    "print(type(done))\n",
    "\n",
    "# any and all\n",
    "book1 = True\n",
    "book2 = False\n",
    "read_any_book = any([book1, book2])\n",
    "\n",
    "ingredients_purchased = True\n",
    "meal_cooked = False\n",
    "ready_to_serve = all([ingredients_purchased, meal_cooked])\n",
    "\n",
    "print(f\"read any book: {read_any_book} \\nready to serve: {ready_to_serve}\")"
   ]
  },
  {
   "cell_type": "markdown",
   "id": "8fcb68d5",
   "metadata": {},
   "source": [
    "### Number data types\n",
    "integer,\n",
    "float,\n",
    "complex numbers"
   ]
  },
  {
   "cell_type": "code",
   "execution_count": 30,
   "id": "a2993cdf",
   "metadata": {},
   "outputs": [
    {
     "name": "stdout",
     "output_type": "stream",
     "text": [
      "<class 'complex'>\n",
      "2.0 3.0\n"
     ]
    }
   ],
   "source": [
    "num1 = 2+3j\n",
    "num = complex(2, 3) \n",
    "print(type(num1))\n",
    "print(num.real, num.imag)"
   ]
  },
  {
   "cell_type": "markdown",
   "id": "d0de23bf",
   "metadata": {},
   "source": [
    "### Built in functions\n",
    "abs() = abselute value of a number\n",
    "round() = round to the nearest integer\n"
   ]
  },
  {
   "cell_type": "code",
   "execution_count": 31,
   "id": "615a4c77",
   "metadata": {},
   "outputs": [
    {
     "name": "stdout",
     "output_type": "stream",
     "text": [
      "5\n",
      "5.5\n"
     ]
    }
   ],
   "source": [
    "print(round(5.49))\n",
    "print(round(5.49, 1))"
   ]
  },
  {
   "cell_type": "markdown",
   "id": "3c4854d3",
   "metadata": {},
   "source": [
    "### Enums\n",
    "enums is a way to creat constant in python."
   ]
  },
  {
   "cell_type": "code",
   "execution_count": 33,
   "id": "586c6187",
   "metadata": {},
   "outputs": [
    {
     "name": "stdout",
     "output_type": "stream",
     "text": [
      "State.INACTIVE\n",
      "State.ACTIVE\n",
      "1\n",
      "[<State.INACTIVE: 0>, <State.ACTIVE: 1>]\n"
     ]
    }
   ],
   "source": [
    "from enum import Enum\n",
    "\n",
    "class State(Enum): #you can choose any other name instead of State\n",
    "    INACTIVE = 0\n",
    "    ACTIVE = 1\n",
    "    \n",
    "print(State(0))\n",
    "print(State[\"ACTIVE\"])\n",
    "print(State.ACTIVE.value)\n",
    "print(list(State))"
   ]
  },
  {
   "cell_type": "code",
   "execution_count": 35,
   "id": "d4e3ea0a",
   "metadata": {},
   "outputs": [
    {
     "name": "stdout",
     "output_type": "stream",
     "text": [
      "3.14\n",
      "[<Coef.e: 2.14>, <Coef.pe: 3.14>]\n"
     ]
    }
   ],
   "source": [
    "class Coef(Enum):\n",
    "    e = 2.14\n",
    "    pe = 3.14\n",
    "    \n",
    "print(Coef.pe.value)\n",
    "print(list(Coef))"
   ]
  },
  {
   "cell_type": "markdown",
   "id": "fc90b659",
   "metadata": {},
   "source": [
    "### User input"
   ]
  },
  {
   "cell_type": "code",
   "execution_count": 36,
   "id": "5418c8a0",
   "metadata": {},
   "outputs": [
    {
     "name": "stdout",
     "output_type": "stream",
     "text": [
      "What is your age?23\n",
      "your age is: 23\n"
     ]
    }
   ],
   "source": [
    "age = input('What is your age? ')\n",
    "print(\"your age is: \" + age)"
   ]
  },
  {
   "cell_type": "markdown",
   "id": "975545f1",
   "metadata": {},
   "source": [
    "### Lists"
   ]
  },
  {
   "cell_type": "code",
   "execution_count": 50,
   "id": "75856e61",
   "metadata": {},
   "outputs": [
    {
     "name": "stdout",
     "output_type": "stream",
     "text": [
      "True\n",
      "['rodger', 'Meau', 'syd', True, 'Jeff']\n",
      "['rodger', 'Meau', 'test', 'syd', True, 'Jeff']\n",
      "['rodger', 'Meau', 'test', 'syd', True, 'Jeff', 'Judah', 'Max']\n",
      "['rodger', 'Meau', 'test', 'syd', True, 'Jeff', 'Judah', 'Max', 1, 3]\n",
      "['test1', 'test2', 'rodger', 'Meau', 'test', 'syd', True, 'Jeff', 'Judah', 'Max', 1, 3]\n",
      "['test1', 'test2', 'rodger', 'Meau', 'test', 'syd', True, 'Jeff', 'Judah', 'Max', 1]\n",
      "1\n",
      "['test1', 'test2', 'rodger', 'Meau', 'test', 'syd', True, 'Jeff', 'Judah', 'Max']\n",
      "Judah\n"
     ]
    }
   ],
   "source": [
    "dogs = [\"rodger\", 1, 'syd', True]\n",
    "# checking\n",
    "print(\"rodger\" in dogs)\n",
    "#changing\n",
    "dogs[1] = \"Meau\"\n",
    "# adding an item at the end of the list\n",
    "dogs.append(\"Jeff\")\n",
    "print(dogs)\n",
    "# adding an item in a specific place\n",
    "dogs.insert(2, \"test\")\n",
    "print(dogs)\n",
    "# extending from the end of the list\n",
    "dogs.extend([\"Judah\", \"Max\"])\n",
    "print(dogs)\n",
    "#another way of extending\n",
    "dogs += [1, 3]\n",
    "print(dogs)\n",
    "#adding multiple items in a specific place using slicing\n",
    "dogs[0:0] = ['test1', 'test2']\n",
    "print(dogs)\n",
    "#removing an item by calling it\n",
    "dogs.remove(3)\n",
    "print(dogs)\n",
    "#removing the last item and print it\n",
    "print(dogs.pop()) \n",
    "print(dogs)\n",
    "#calling an item by calling its place\n",
    "print(dogs[-2])\n"
   ]
  },
  {
   "cell_type": "code",
   "execution_count": 57,
   "id": "5013d367",
   "metadata": {},
   "outputs": [
    {
     "name": "stdout",
     "output_type": "stream",
     "text": [
      "['D', 'Z', 'a', 'b', 'c', 'd']\n",
      "['a', 'b', 'c', 'D', 'd', 'Z']\n",
      "['a', 'b', 'c', 'd', 'D', 'Z']\n"
     ]
    }
   ],
   "source": [
    "# sort method sort the uppercase letters fist then the lower case letters\n",
    "items = ['c', 'd', 'a', 'b', 'Z', 'D']\n",
    "### important : sorting modifies the original list content for avoiding this we can copy the list\n",
    "itemscopy = items[:]\n",
    "items.sort()\n",
    "print(items)\n",
    "# we can handle this problem by using key argument\n",
    "items.sort(key=str.lower)\n",
    "print(items)\n",
    "# another way for sorting a list without changing the original content is to use sorted\n",
    "print(sorted(itemscopy, key=str.lower))"
   ]
  },
  {
   "cell_type": "code",
   "execution_count": null,
   "id": "8f661ed4",
   "metadata": {},
   "outputs": [],
   "source": []
  }
 ],
 "metadata": {
  "kernelspec": {
   "display_name": "Python 3 (ipykernel)",
   "language": "python",
   "name": "python3"
  },
  "language_info": {
   "codemirror_mode": {
    "name": "ipython",
    "version": 3
   },
   "file_extension": ".py",
   "mimetype": "text/x-python",
   "name": "python",
   "nbconvert_exporter": "python",
   "pygments_lexer": "ipython3",
   "version": "3.11.5"
  }
 },
 "nbformat": 4,
 "nbformat_minor": 5
}
